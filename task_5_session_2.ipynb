{
 "cells": [
  {
   "cell_type": "code",
   "execution_count": 1,
   "id": "073b6305",
   "metadata": {},
   "outputs": [],
   "source": [
    "from sklearn.feature_extraction.text import CountVectorizer\n",
    "\n",
    "vect = CountVectorizer(binary = True)"
   ]
  },
  {
   "cell_type": "code",
   "execution_count": 2,
   "id": "748abce4",
   "metadata": {},
   "outputs": [
    {
     "data": {
      "text/plain": [
       "CountVectorizer(binary=True)"
      ]
     },
     "execution_count": 2,
     "metadata": {},
     "output_type": "execute_result"
    }
   ],
   "source": [
    "corpus=[\"Travellers can now fly directly between Pune and Singapore starting December 2\" \n",
    "        \"courtesy Vistara which will kick off three to four flights every week.\" \n",
    "        \"International connections from Pune are rare (right now, Dubai is the sole one)\" \n",
    "        \"visitors normally rely on Mumbai airport for the same.\" \n",
    "        \"However, authorities are now planning to connect the city to two more Southeast Asian countries\" \n",
    "        \"once the Singapore route is up and running.\",\"German Shepherd is from Germany\",\"Germans love gossiping\"]\n",
    "vect.fit(corpus)"
   ]
  },
  {
   "cell_type": "code",
   "execution_count": 3,
   "id": "b9dc7a8d",
   "metadata": {},
   "outputs": [],
   "source": [
    "vocab = vect.vocabulary_"
   ]
  },
  {
   "cell_type": "code",
   "execution_count": 4,
   "id": "b3cb77c3",
   "metadata": {},
   "outputs": [
    {
     "name": "stdout",
     "output_type": "stream",
     "text": [
      "2courtesy:0\n",
      "airport:1\n",
      "and:2\n",
      "are:3\n",
      "asian:4\n",
      "authorities:5\n",
      "between:6\n",
      "can:7\n",
      "city:8\n",
      "connect:9\n",
      "connections:10\n",
      "countriesonce:11\n",
      "december:12\n",
      "directly:13\n",
      "dubai:14\n",
      "every:15\n",
      "flights:16\n",
      "fly:17\n",
      "for:18\n",
      "four:19\n",
      "from:20\n",
      "german:21\n",
      "germans:22\n",
      "germany:23\n",
      "gossiping:24\n",
      "however:25\n",
      "international:26\n",
      "is:27\n",
      "kick:28\n",
      "love:29\n",
      "more:30\n",
      "mumbai:31\n",
      "normally:32\n",
      "now:33\n",
      "off:34\n",
      "on:35\n",
      "one:36\n",
      "planning:37\n",
      "pune:38\n",
      "rare:39\n",
      "rely:40\n",
      "right:41\n",
      "route:42\n",
      "running:43\n",
      "same:44\n",
      "shepherd:45\n",
      "singapore:46\n",
      "sole:47\n",
      "southeast:48\n",
      "starting:49\n",
      "the:50\n",
      "three:51\n",
      "to:52\n",
      "travellers:53\n",
      "two:54\n",
      "up:55\n",
      "visitors:56\n",
      "vistara:57\n",
      "week:58\n",
      "which:59\n",
      "will:60\n"
     ]
    }
   ],
   "source": [
    "for key in sorted(vocab.keys()):\n",
    "    print(\"{}:{}\".format(key,vocab[key]))"
   ]
  },
  {
   "cell_type": "code",
   "execution_count": 5,
   "id": "c7d6c128",
   "metadata": {},
   "outputs": [
    {
     "name": "stdout",
     "output_type": "stream",
     "text": [
      "[[0 0 1 0 0 0 1 1 0 0 0 0 0 1 0 0 0 1 0 0 0 0 0 0 0 0 0 0 0 0 0 1 0 1 0 0\n",
      "  0 0 0 0 0 0 0 0 0 0 1 0 0 0 0 0 0 1 0 0 0 0 0 0 0]]\n"
     ]
    }
   ],
   "source": [
    "print(vect.transform(['Travellers can now fly directly between Mumbai and Singapore']).toarray())"
   ]
  },
  {
   "cell_type": "code",
   "execution_count": 6,
   "id": "9d84681d",
   "metadata": {},
   "outputs": [],
   "source": [
    "from sklearn.metrics.pairwise import cosine_similarity\n",
    "similarity = cosine_similarity(vect.transform(['International connections from Pune are rare (right now, Dubai is the sole one)']).toarray(),vect.transform([\"Travellers can now fly\"]).toarray())"
   ]
  },
  {
   "cell_type": "code",
   "execution_count": 7,
   "id": "4eb37acc",
   "metadata": {},
   "outputs": [
    {
     "name": "stdout",
     "output_type": "stream",
     "text": [
      "[[0.13867505]]\n"
     ]
    }
   ],
   "source": [
    "print(similarity)"
   ]
  },
  {
   "cell_type": "code",
   "execution_count": null,
   "id": "4732029d",
   "metadata": {},
   "outputs": [],
   "source": []
  }
 ],
 "metadata": {
  "kernelspec": {
   "display_name": "Python 3 (ipykernel)",
   "language": "python",
   "name": "python3"
  },
  "language_info": {
   "codemirror_mode": {
    "name": "ipython",
    "version": 3
   },
   "file_extension": ".py",
   "mimetype": "text/x-python",
   "name": "python",
   "nbconvert_exporter": "python",
   "pygments_lexer": "ipython3",
   "version": "3.9.13"
  }
 },
 "nbformat": 4,
 "nbformat_minor": 5
}
